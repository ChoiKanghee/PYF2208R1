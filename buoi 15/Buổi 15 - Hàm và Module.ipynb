{
 "cells": [
  {
   "cell_type": "markdown",
   "id": "73456e5e",
   "metadata": {},
   "source": [
    "# Hàm\n",
    "\n",
    "### Hàm\n",
    "\n",
    "Cú pháp:\n",
    "\n",
    "`def <tên hàm>(<tham số)>:\n",
    "    //Nội dung hàm`\n",
    "\n",
    "Gọi hàm:\n",
    "`<tên hàm>(<giá trị đầu vào>)`\n",
    "\n",
    "Ví dụ:\n",
    "\n",
    "Hãy viết 1 hàm số để tính tổng 2 số đầu vào và in nó ra màn hình"
   ]
  },
  {
   "cell_type": "code",
   "execution_count": 9,
   "id": "7835844c",
   "metadata": {},
   "outputs": [
    {
     "name": "stdout",
     "output_type": "stream",
     "text": [
      "hello\n",
      "hello\n",
      "hello\n",
      "hello\n"
     ]
    }
   ],
   "source": [
    "def in_2_lan_chu_hello():\n",
    "    print('hello')\n",
    "    print('hello')\n",
    "    \n",
    "in_2_lan_chu_hello()\n",
    "in_2_lan_chu_hello()"
   ]
  },
  {
   "cell_type": "code",
   "execution_count": 12,
   "id": "2be1adaf",
   "metadata": {},
   "outputs": [
    {
     "name": "stdout",
     "output_type": "stream",
     "text": [
      "5\n",
      "7\n"
     ]
    },
    {
     "ename": "TypeError",
     "evalue": "'<' not supported between instances of 'str' and 'int'",
     "output_type": "error",
     "traceback": [
      "\u001b[1;31m---------------------------------------------------------------------------\u001b[0m",
      "\u001b[1;31mTypeError\u001b[0m                                 Traceback (most recent call last)",
      "\u001b[1;32m~\\AppData\\Local\\Temp/ipykernel_19672/2026838825.py\u001b[0m in \u001b[0;36m<module>\u001b[1;34m\u001b[0m\n\u001b[0;32m      7\u001b[0m \u001b[0mtri_tuyet_doi\u001b[0m\u001b[1;33m(\u001b[0m\u001b[1;36m5\u001b[0m\u001b[1;33m)\u001b[0m \u001b[1;31m## gọi hàm như thế này thì so sẽ = 5\u001b[0m\u001b[1;33m\u001b[0m\u001b[1;33m\u001b[0m\u001b[0m\n\u001b[0;32m      8\u001b[0m \u001b[0mtri_tuyet_doi\u001b[0m\u001b[1;33m(\u001b[0m\u001b[1;33m-\u001b[0m\u001b[1;36m7\u001b[0m\u001b[1;33m)\u001b[0m \u001b[1;31m## gọi hàm như thế này thì so sẽ là -7\u001b[0m\u001b[1;33m\u001b[0m\u001b[1;33m\u001b[0m\u001b[0m\n\u001b[1;32m----> 9\u001b[1;33m \u001b[0mtri_tuyet_doi\u001b[0m\u001b[1;33m(\u001b[0m\u001b[1;34m\"abc\"\u001b[0m\u001b[1;33m)\u001b[0m \u001b[1;31m## hàm sẽ báo lỗi vì ta so sánh chuỗi với số (dòng số 3)\u001b[0m\u001b[1;33m\u001b[0m\u001b[1;33m\u001b[0m\u001b[0m\n\u001b[0m",
      "\u001b[1;32m~\\AppData\\Local\\Temp/ipykernel_19672/2026838825.py\u001b[0m in \u001b[0;36mtri_tuyet_doi\u001b[1;34m(so)\u001b[0m\n\u001b[0;32m      1\u001b[0m \u001b[1;31m## muốn lấy trị tuyệt đối của 1 số thì nếu số đó là số âm thì ta lấy số đối của số đó, ngược lại ta giữ nguyên\u001b[0m\u001b[1;33m\u001b[0m\u001b[1;33m\u001b[0m\u001b[0m\n\u001b[0;32m      2\u001b[0m \u001b[1;32mdef\u001b[0m \u001b[0mtri_tuyet_doi\u001b[0m\u001b[1;33m(\u001b[0m\u001b[0mso\u001b[0m\u001b[1;33m)\u001b[0m\u001b[1;33m:\u001b[0m \u001b[1;31m## so là tham số của hàm tri_tuyet_doi, so cũng là biến\u001b[0m\u001b[1;33m\u001b[0m\u001b[1;33m\u001b[0m\u001b[0m\n\u001b[1;32m----> 3\u001b[1;33m     \u001b[1;32mif\u001b[0m \u001b[0mso\u001b[0m \u001b[1;33m<\u001b[0m \u001b[1;36m0\u001b[0m\u001b[1;33m:\u001b[0m\u001b[1;33m\u001b[0m\u001b[1;33m\u001b[0m\u001b[0m\n\u001b[0m\u001b[0;32m      4\u001b[0m         \u001b[0mso\u001b[0m \u001b[1;33m=\u001b[0m \u001b[0mso\u001b[0m \u001b[1;33m*\u001b[0m \u001b[1;33m-\u001b[0m\u001b[1;36m1\u001b[0m\u001b[1;33m\u001b[0m\u001b[1;33m\u001b[0m\u001b[0m\n\u001b[0;32m      5\u001b[0m     \u001b[0mprint\u001b[0m\u001b[1;33m(\u001b[0m\u001b[0mso\u001b[0m\u001b[1;33m)\u001b[0m\u001b[1;33m\u001b[0m\u001b[1;33m\u001b[0m\u001b[0m\n",
      "\u001b[1;31mTypeError\u001b[0m: '<' not supported between instances of 'str' and 'int'"
     ]
    }
   ],
   "source": [
    "## muốn lấy trị tuyệt đối của 1 số thì nếu số đó là số âm thì ta lấy số đối của số đó, ngược lại ta giữ nguyên\n",
    "def tri_tuyet_doi(so): ## so là tham số của hàm tri_tuyet_doi, so cũng là biến\n",
    "    if so < 0:\n",
    "        so = so * -1\n",
    "    print(so)\n",
    "    \n",
    "tri_tuyet_doi(5) ## gọi hàm như thế này thì so sẽ = 5\n",
    "tri_tuyet_doi(-7) ## gọi hàm như thế này thì so sẽ là -7\n",
    "tri_tuyet_doi(\"abc\") ## hàm sẽ báo lỗi vì ta so sánh chuỗi với số (dòng số 3)"
   ]
  },
  {
   "cell_type": "code",
   "execution_count": 14,
   "id": "c31cf9c3",
   "metadata": {},
   "outputs": [
    {
     "name": "stdout",
     "output_type": "stream",
     "text": [
      "Xin chào Lê Phường Trường\n"
     ]
    },
    {
     "ename": "TypeError",
     "evalue": "can only concatenate str (not \"int\") to str",
     "output_type": "error",
     "traceback": [
      "\u001b[1;31m---------------------------------------------------------------------------\u001b[0m",
      "\u001b[1;31mTypeError\u001b[0m                                 Traceback (most recent call last)",
      "\u001b[1;32m~\\AppData\\Local\\Temp/ipykernel_19672/2301240583.py\u001b[0m in \u001b[0;36m<module>\u001b[1;34m\u001b[0m\n\u001b[0;32m      4\u001b[0m \u001b[1;33m\u001b[0m\u001b[0m\n\u001b[0;32m      5\u001b[0m \u001b[0mxin_chao_nguoi_dung\u001b[0m\u001b[1;33m(\u001b[0m\u001b[1;34m\"Lê Phường Trường\"\u001b[0m\u001b[1;33m)\u001b[0m\u001b[1;33m\u001b[0m\u001b[1;33m\u001b[0m\u001b[0m\n\u001b[1;32m----> 6\u001b[1;33m \u001b[0mxin_chao_nguoi_dung\u001b[0m\u001b[1;33m(\u001b[0m\u001b[1;36m1\u001b[0m\u001b[1;33m)\u001b[0m\u001b[1;33m\u001b[0m\u001b[1;33m\u001b[0m\u001b[0m\n\u001b[0m",
      "\u001b[1;32m~\\AppData\\Local\\Temp/ipykernel_19672/2301240583.py\u001b[0m in \u001b[0;36mxin_chao_nguoi_dung\u001b[1;34m(ten)\u001b[0m\n\u001b[0;32m      1\u001b[0m \u001b[1;32mdef\u001b[0m \u001b[0mxin_chao_nguoi_dung\u001b[0m\u001b[1;33m(\u001b[0m\u001b[0mten\u001b[0m\u001b[1;33m)\u001b[0m\u001b[1;33m:\u001b[0m\u001b[1;33m\u001b[0m\u001b[1;33m\u001b[0m\u001b[0m\n\u001b[1;32m----> 2\u001b[1;33m     \u001b[0mchuoi\u001b[0m \u001b[1;33m=\u001b[0m \u001b[1;34m\"Xin chào \"\u001b[0m \u001b[1;33m+\u001b[0m \u001b[0mten\u001b[0m\u001b[1;33m\u001b[0m\u001b[1;33m\u001b[0m\u001b[0m\n\u001b[0m\u001b[0;32m      3\u001b[0m     \u001b[0mprint\u001b[0m\u001b[1;33m(\u001b[0m\u001b[0mchuoi\u001b[0m\u001b[1;33m)\u001b[0m\u001b[1;33m\u001b[0m\u001b[1;33m\u001b[0m\u001b[0m\n\u001b[0;32m      4\u001b[0m \u001b[1;33m\u001b[0m\u001b[0m\n\u001b[0;32m      5\u001b[0m \u001b[0mxin_chao_nguoi_dung\u001b[0m\u001b[1;33m(\u001b[0m\u001b[1;34m\"Lê Phường Trường\"\u001b[0m\u001b[1;33m)\u001b[0m\u001b[1;33m\u001b[0m\u001b[1;33m\u001b[0m\u001b[0m\n",
      "\u001b[1;31mTypeError\u001b[0m: can only concatenate str (not \"int\") to str"
     ]
    }
   ],
   "source": [
    "def xin_chao_nguoi_dung(ten):\n",
    "    chuoi = \"Xin chào \" + ten\n",
    "    print(chuoi)\n",
    "    \n",
    "xin_chao_nguoi_dung(\"Lê Phường Trường\")\n",
    "xin_chao_nguoi_dung(1)"
   ]
  },
  {
   "cell_type": "code",
   "execution_count": 17,
   "id": "7da178b8",
   "metadata": {},
   "outputs": [
    {
     "name": "stdout",
     "output_type": "stream",
     "text": [
      "None\n"
     ]
    }
   ],
   "source": [
    "def xin_chao_nguoi_dung(ten):\n",
    "    chuoi = \"Xin chào \" + ten\n",
    "    # print(chuoi)\n",
    "    \n",
    "print(xin_chao_nguoi_dung('hello'))"
   ]
  },
  {
   "cell_type": "code",
   "execution_count": 16,
   "id": "8a52d577",
   "metadata": {
    "scrolled": true
   },
   "outputs": [
    {
     "name": "stdout",
     "output_type": "stream",
     "text": [
      "14\n",
      "None\n"
     ]
    }
   ],
   "source": [
    "def tong_so(a,b):\n",
    "    tong = a + b\n",
    "    print(tong)\n",
    "    \n",
    "print(tong_so(5,9))\n",
    "\n",
    "## số 14 được thực hiện bởi lệnh print ở dòng số 3\n",
    "## chữ None được thực hiện bởi lệnh print ở dòng 5"
   ]
  },
  {
   "cell_type": "code",
   "execution_count": 20,
   "id": "c961747e",
   "metadata": {},
   "outputs": [
    {
     "name": "stdout",
     "output_type": "stream",
     "text": [
      "15\n"
     ]
    }
   ],
   "source": [
    "print(abs(-15))"
   ]
  },
  {
   "cell_type": "code",
   "execution_count": 21,
   "id": "a0d5058a",
   "metadata": {},
   "outputs": [
    {
     "name": "stdout",
     "output_type": "stream",
     "text": [
      "1\n"
     ]
    }
   ],
   "source": [
    "chuoi = 'abc'\n",
    "vt = chuoi.find('b')\n",
    "print(vt)"
   ]
  },
  {
   "cell_type": "markdown",
   "id": "a7c39f47",
   "metadata": {},
   "source": [
    "### Giá trị trả về của hàm\n",
    "\n",
    "# return\n",
    "\n",
    "Cú pháp:\n",
    "\n",
    "`retrun <giá trị trả về>`\n",
    "\n",
    "##### Lưu ý: Sau khi thực hiện lệnh return, chương trình sẽ thoát khỏi hàm ngay lập tức (những lệnh sau đó không được thực hiện)\n",
    "\n",
    "Ví dụ:\n",
    "\n",
    "Hãy viết 1 hàm trả về giá trị trung bình của 2 số bất kỳ"
   ]
  },
  {
   "cell_type": "code",
   "execution_count": 28,
   "id": "0b527b95",
   "metadata": {
    "scrolled": true
   },
   "outputs": [
    {
     "name": "stdout",
     "output_type": "stream",
     "text": [
      "12\n"
     ]
    }
   ],
   "source": [
    "def tong_so(a,b):\n",
    "    tong = a + b\n",
    "    return tong\n",
    "\n",
    "a = tong_so(5,7)\n",
    "print(a)"
   ]
  },
  {
   "cell_type": "code",
   "execution_count": 31,
   "id": "3589b425",
   "metadata": {},
   "outputs": [
    {
     "name": "stdout",
     "output_type": "stream",
     "text": [
      "12\n",
      "a: None\n"
     ]
    }
   ],
   "source": [
    "def tong_so(a,b):\n",
    "    tong = a + b\n",
    "    print(tong)\n",
    "    \n",
    "### hàm tong_so không có lệnh return ~~> giá trị của hàm tong_so là None\n",
    "    \n",
    "a = tong_so(5,7)\n",
    "print(\"a:\",a)\n",
    "\n",
    "### thứ 1: chương trình có in hay không, nếu có thì in cái gì\n",
    "### thứ 2: a có giá trị là bao nhiêu?\n",
    "##### ~~> a sẽ là None do hàm không có giá trị (hàm không có lệnh return)"
   ]
  },
  {
   "cell_type": "code",
   "execution_count": 33,
   "id": "0c9664da",
   "metadata": {},
   "outputs": [
    {
     "name": "stdout",
     "output_type": "stream",
     "text": [
      "12\n",
      "a: 12\n"
     ]
    }
   ],
   "source": [
    "def tong_so(a,b):\n",
    "    tong = a + b\n",
    "    print(tong)\n",
    "    return tong\n",
    "\n",
    "a = tong_so(5,7)\n",
    "print(\"a:\",a)"
   ]
  },
  {
   "cell_type": "code",
   "execution_count": 34,
   "id": "9306faff",
   "metadata": {},
   "outputs": [],
   "source": [
    "def tong_so(a,b):\n",
    "    tong = a + b\n",
    "    return tong\n",
    "    print(tong)\n",
    "    \n",
    "a = tong_so(5,7)\n",
    "\n",
    "### thứ 1: chương trình có in hay không, nếu có thì in cái gì\n",
    "### thứ 2: a có giá trị là bao nhiêu?"
   ]
  },
  {
   "cell_type": "markdown",
   "id": "1d7f8db0",
   "metadata": {},
   "source": [
    "### Bài tập"
   ]
  },
  {
   "cell_type": "markdown",
   "id": "75fb488b",
   "metadata": {},
   "source": [
    "Viết hàm kiểm tra số nguyên tố"
   ]
  },
  {
   "cell_type": "code",
   "execution_count": null,
   "id": "63701bd7",
   "metadata": {},
   "outputs": [],
   "source": []
  },
  {
   "cell_type": "markdown",
   "id": "221103cf",
   "metadata": {},
   "source": [
    "Nhập vào 3 điểm toán, lý, hóa\n",
    "\n",
    "Hãy viết hàm in điểm trung bung bình rồi tính điểm trung bình của toán lý, toán hóa, lý hóa và toán lý hóa"
   ]
  },
  {
   "cell_type": "code",
   "execution_count": null,
   "id": "1ba1d8ae",
   "metadata": {},
   "outputs": [],
   "source": []
  },
  {
   "cell_type": "markdown",
   "id": "50f43307",
   "metadata": {},
   "source": [
    "Viết hàm đếm số lượng từ của một chuỗi đưa vào"
   ]
  },
  {
   "cell_type": "code",
   "execution_count": null,
   "id": "be785b29",
   "metadata": {},
   "outputs": [],
   "source": []
  },
  {
   "cell_type": "markdown",
   "id": "b4adef40",
   "metadata": {},
   "source": [
    "Viết một hàm vẽ hình tròn, một hàm vẽ hình vuông và một hàm vẽ hình tam giác đều (giá trị đầu vào là a)\n",
    "\n",
    "Tất cả hàm này, bắt đầu từ 1 vị trí, sau khi vẽ ra, con trỏ sẽ tiến tới vị trí tiếp theo, cách vì đầu một khoảng a + 10 theo chiều x từ trái sang"
   ]
  },
  {
   "cell_type": "code",
   "execution_count": null,
   "id": "e405d1d4",
   "metadata": {},
   "outputs": [],
   "source": []
  }
 ],
 "metadata": {
  "kernelspec": {
   "display_name": "Python 3 (ipykernel)",
   "language": "python",
   "name": "python3"
  },
  "language_info": {
   "codemirror_mode": {
    "name": "ipython",
    "version": 3
   },
   "file_extension": ".py",
   "mimetype": "text/x-python",
   "name": "python",
   "nbconvert_exporter": "python",
   "pygments_lexer": "ipython3",
   "version": "3.10.7"
  }
 },
 "nbformat": 4,
 "nbformat_minor": 5
}
