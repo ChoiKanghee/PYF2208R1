{
 "cells": [
  {
   "cell_type": "markdown",
   "id": "a20f121d",
   "metadata": {},
   "source": [
    "# Dictionnary\n",
    "\n",
    "Dictionnary là một dạng list đặc biệt, nó khác list ở chỗ không lưu trữ các giá trị theo chỉ số vị trí, thay vào đó Dictionary sẽ lưu trữ các giá trị theo key\n",
    "\n",
    "##### Tài liệu tham khảo: https://www.w3schools.com/python/python_dictionaries.asp\n",
    "\n",
    "### Khai báo một dictionary\n",
    "\n",
    "Cú pháp:\n",
    "\n",
    "`<tên dictionary> = {}`\n",
    "\n",
    "### Dictionary được khai báo bằng hai dấu hoặc nhọn\n",
    "\n",
    "Đây là một dictionary rỗng\n",
    "\n",
    "<b>Ví dụ 1:</b>\n",
    "\n",
    "`a = {}`\n",
    "\n",
    "a là một dictionary rỗng\n",
    "\n",
    "<b>Ví dụ 2:</b>\n",
    "\n",
    "`a = {\"tên\": \"Nguyễn Tâm Điền\", \"tuổi\": 13, \"giới tính\": \"Nam\"}`\n",
    "\n",
    "b là một dictionary có 3 key, mõi key đều có một giá trị riêng biệt\n",
    "\n",
    "Key có thể mang kiểu dữ liệu là chuỗi hoặc số\n",
    "\n",
    "##### Mỗi một key đều phải có giá trị của riêng nó, không thể khai báo key không có giá trị\n",
    "\n",
    "<b>Hãy khai báo một dictionary có 3 phần tử</b>"
   ]
  },
  {
   "cell_type": "code",
   "execution_count": 2,
   "id": "d835f461",
   "metadata": {},
   "outputs": [
    {
     "name": "stdout",
     "output_type": "stream",
     "text": [
      "Nguyễn Tâm Điền\n"
     ]
    }
   ],
   "source": [
    "D_thongtin = {\"tên\": \"Nguyễn Tâm Điền\", \"tuổi\": 13, \"giới tính\": \"Nam\"}\n",
    "print(D_thongtin[\"tên\"])"
   ]
  },
  {
   "cell_type": "code",
   "execution_count": 5,
   "id": "7bce8ea3",
   "metadata": {},
   "outputs": [
    {
     "name": "stdout",
     "output_type": "stream",
     "text": [
      "{1: 'hello', 'tên': 'Đức Hiếu'}\n"
     ]
    }
   ],
   "source": [
    "D_demo = {1:\"hello\",\"tên\":\"Đức Hiếu\"}\n",
    "print(D_demo)"
   ]
  },
  {
   "cell_type": "markdown",
   "id": "be1e321c",
   "metadata": {},
   "source": [
    "### Thêm key vào dictionary\n",
    "\n",
    "Cú pháp:\n",
    "\n",
    "`<tên dictionary>[<key>] = <giá trị>`\n",
    "\n",
    "<b>Ví dụ 1:</b>\n",
    "\n",
    "`a = {}\n",
    "a[\"tên\"] = \"NTD\"`\n",
    "\n",
    "a là một dictionary có một phần tử, phần tử đó có key là \"tên\" và giá trị của key đó là \"NTD\"\n",
    "\n",
    "##### Lưu ý, nếu trong trường hợp đã tồn tại key trong dictionary, dùng lệnh trên sẽ thay đổi giá trị key đó (không phải thêm key khác vào)\n",
    "\n",
    "<b>Ví dụ 2:</b>\n",
    "\n",
    "`a = {}\n",
    "a[\"tên\"] = \"NTD\"\n",
    "a[\"tên\"] = \"Nguyễn Tâm Điền\"`\n",
    "\n",
    "a vẫn là một dictionary có một phần tử, phần tử đó có key là \"tên\" và giá trị của key đó là \"Nguyễn Tâm Điền\"\n",
    "\n",
    "<b>Hãy khai báo một dictionary không có phần tử nào, sau đó thêm một phần tử vào dictionary đó</b>"
   ]
  },
  {
   "cell_type": "code",
   "execution_count": 7,
   "id": "7573ebef",
   "metadata": {},
   "outputs": [
    {
     "name": "stdout",
     "output_type": "stream",
     "text": [
      "{'hi': 'hello'}\n"
     ]
    }
   ],
   "source": [
    "D_demo = {}\n",
    "D_demo['hi'] = 'hello'\n",
    "print(D_demo)"
   ]
  },
  {
   "cell_type": "code",
   "execution_count": 8,
   "id": "0b96e3ba",
   "metadata": {},
   "outputs": [
    {
     "ename": "IndexError",
     "evalue": "list assignment index out of range",
     "output_type": "error",
     "traceback": [
      "\u001b[1;31m---------------------------------------------------------------------------\u001b[0m",
      "\u001b[1;31mIndexError\u001b[0m                                Traceback (most recent call last)",
      "\u001b[1;32m~\\AppData\\Local\\Temp/ipykernel_15380/1593796550.py\u001b[0m in \u001b[0;36m<module>\u001b[1;34m\u001b[0m\n\u001b[0;32m      1\u001b[0m \u001b[0mL\u001b[0m \u001b[1;33m=\u001b[0m \u001b[1;33m[\u001b[0m\u001b[1;33m]\u001b[0m\u001b[1;33m\u001b[0m\u001b[1;33m\u001b[0m\u001b[0m\n\u001b[1;32m----> 2\u001b[1;33m \u001b[0mL\u001b[0m\u001b[1;33m[\u001b[0m\u001b[1;36m0\u001b[0m\u001b[1;33m]\u001b[0m \u001b[1;33m=\u001b[0m \u001b[1;36m2\u001b[0m\u001b[1;33m\u001b[0m\u001b[1;33m\u001b[0m\u001b[0m\n\u001b[0m\u001b[0;32m      3\u001b[0m \u001b[0mprint\u001b[0m\u001b[1;33m(\u001b[0m\u001b[0mL\u001b[0m\u001b[1;33m)\u001b[0m\u001b[1;33m\u001b[0m\u001b[1;33m\u001b[0m\u001b[0m\n",
      "\u001b[1;31mIndexError\u001b[0m: list assignment index out of range"
     ]
    }
   ],
   "source": [
    "L = []\n",
    "L[0] = 2\n",
    "print(L)"
   ]
  },
  {
   "cell_type": "code",
   "execution_count": 10,
   "id": "1e1d2ab0",
   "metadata": {},
   "outputs": [
    {
     "name": "stdout",
     "output_type": "stream",
     "text": [
      "{'hi': 'xin chào', 3: 'xin chào'}\n"
     ]
    }
   ],
   "source": [
    "D_demo = {}\n",
    "D_demo['hi'] = 'hello'\n",
    "D_demo['hi'] = 'xin chào'\n",
    "D_demo[3] = 'xin chào'\n",
    "print(D_demo)"
   ]
  },
  {
   "cell_type": "code",
   "execution_count": 11,
   "id": "d0aa2e4f",
   "metadata": {},
   "outputs": [
    {
     "name": "stdout",
     "output_type": "stream",
     "text": [
      "{'hi': 'xin chào'}\n"
     ]
    }
   ],
   "source": [
    "D_demo = {'hi':'hello','hi':'xin chào'}\n",
    "print(D_demo)"
   ]
  },
  {
   "cell_type": "markdown",
   "id": "65c98825",
   "metadata": {},
   "source": [
    "### Truy xuất phần tử trong dictionary\n",
    "\n",
    "Cú pháp:\n",
    "\n",
    "`<tên dictionary>[<key>]`\n",
    "\n",
    "<b>Ví dụ:</b>\n",
    "\n",
    "`a = {\"tên\": \"Nguyễn Tâm Điền\", \"tuổi\": 13, \"giới tính\": \"Nam\"}\n",
    "print(a[\"tên\"])`\n",
    "\n",
    "Màn hình sẽ in: Nguyễn Tâm Điền\n",
    "\n",
    "<b>Hãy khai báo một dictionary rồi in ra màn hình một phần tử bất kỳ trong dictionary đó</b>"
   ]
  },
  {
   "cell_type": "code",
   "execution_count": 12,
   "id": "f6159385",
   "metadata": {},
   "outputs": [
    {
     "name": "stdout",
     "output_type": "stream",
     "text": [
      "Nguyễn Tâm Điền\n"
     ]
    }
   ],
   "source": [
    "D = {\"tên\": \"Nguyễn Tâm Điền\", \"tuổi\": 13, \"giới tính\": \"Nam\"}\n",
    "print(D['tên'])"
   ]
  },
  {
   "cell_type": "markdown",
   "id": "afa92f87",
   "metadata": {},
   "source": [
    "### Sao chép dictionary\n",
    "\n",
    "##### Việc sao chép dictionary được thực hiện hệt như sao chép list, chúng ta cần phải sử dụng lệnh copy()"
   ]
  },
  {
   "cell_type": "markdown",
   "id": "ef7e800d",
   "metadata": {},
   "source": [
    "### Duyệt dictionary bằng lệnh for\n",
    "\n",
    "Cú pháp:\n",
    "\n",
    "`for <tên biến> in <tên dictionary>:`\n",
    "\n",
    "Biến sẽ có giá trị là từng key trong dictionary\n",
    "\n",
    "<b>Ví dụ:</b>\n",
    "\n",
    "`a = {\"tên\": \"Nguyễn Tâm Điền\", \"tuổi\": 13, \"giới tính\": \"Nam\"}\n",
    "for i in a:\n",
    "    print(i)`\n",
    "    \n",
    "Màn hình sẽ in ra:\n",
    "\n",
    "tên\n",
    "\n",
    "tuổi\n",
    "\n",
    "giới tính\n",
    "\n",
    "<b>Hãy khai báo một dictionary rồi in ra màn hình toàn bộ giá trị trong dictionary đó</b>"
   ]
  },
  {
   "cell_type": "code",
   "execution_count": 15,
   "id": "3bdd1508",
   "metadata": {},
   "outputs": [
    {
     "name": "stdout",
     "output_type": "stream",
     "text": [
      "tên Nguyễn Tâm Điền\n",
      "tuổi 13\n",
      "giới tính Nam\n"
     ]
    }
   ],
   "source": [
    "D = {\"tên\": \"Nguyễn Tâm Điền\", \"tuổi\": 13, \"giới tính\": \"Nam\"}\n",
    "for i in D:\n",
    "    print(i,D[i])"
   ]
  },
  {
   "cell_type": "markdown",
   "id": "1982f4b1",
   "metadata": {},
   "source": [
    "### Bài tập"
   ]
  },
  {
   "cell_type": "markdown",
   "id": "3060a950",
   "metadata": {},
   "source": [
    "Viết chương trình đếm số lần xuất hiện của một từ trong một văn bản nhất định"
   ]
  },
  {
   "cell_type": "code",
   "execution_count": 31,
   "id": "af64832c",
   "metadata": {},
   "outputs": [
    {
     "name": "stdout",
     "output_type": "stream",
     "text": [
      "{'hắn': 30, 'vừa': 4, 'đi': 8, 'chửi': 16, 'bao': 1, 'giờ': 3, 'cũng': 8, 'thế': 9, 'cứ': 4, 'rượu': 5, 'xong': 1, 'là': 10, 'bắt': 2, 'đầu': 3, 'trời': 3, 'có': 17, 'hề': 1, 'gì': 5, 'của': 2, 'riêng': 1, 'nhà': 14, 'nào': 6, 'rồi': 6, 'đời': 4, 'chẳng': 5, 'sao': 3, 'tất': 2, 'cả': 11, 'nhưng': 6, 'ai': 7, 'tức': 4, 'mình': 2, 'ngay': 1, 'làng': 6, 'vũ': 3, 'đại': 3, 'nhủ': 1, 'chắc': 2, 'nó': 6, 'trừ': 1, 'ra': 8, 'không': 16, 'lên': 2, 'tiếng': 7, 'thật': 4, 'ồ': 3, 'này': 10, 'thì': 14, 'chết': 6, 'được': 3, 'mất': 2, 'đã': 6, 'phải': 11, 'cha': 4, 'đứa': 3, 'nhau': 3, 'với': 6, 'điều': 1, 'mẹ': 4, 'kiếp': 1, 'phí': 1, 'khổ': 2, 'biết': 9, 'đẻ': 3, 'thân': 2, 'cho': 7, 'đến': 4, 'nông': 1, 'nỗi': 1, 'a': 2, 'ha': 2, 'đấy': 4, 'mà': 13, 'cái': 19, 'thằng': 6, 'chí': 2, 'phèo': 1, 'một': 16, 'anh': 4, 'thả': 1, 'ống': 1, 'lươn': 1, 'buổi': 1, 'sáng': 1, 'tinh': 1, 'sương': 1, 'thấy': 4, 'trần': 1, 'truồng': 1, 'và': 3, 'xám': 1, 'ngắt': 2, 'trong': 3, 'váy': 1, 'đụp': 1, 'để': 1, 'bên': 1, 'lò': 1, 'gạch': 1, 'bỏ': 1, 'ta': 5, 'rước': 1, 'lấy': 2, 'đem': 1, 'người': 14, 'đàn': 3, 'bà': 20, 'góa': 2, 'mù': 2, 'bán': 1, 'bác': 2, 'phó': 2, 'cối': 2, 'con': 4, 'khi': 1, 'bơ': 1, 'vơ': 1, 'hết': 1, 'ở': 4, 'lại': 7, 'nọ': 1, 'năm': 3, 'hai': 6, 'mươi': 1, 'tuổi': 1, 'làm': 3, 'canh': 3, 'điền': 3, 'ông': 10, 'lý': 12, 'kiến': 4, 'bây': 2, 'cụ': 5, 'bá': 7, 'ăn': 1, 'tiên': 2, 'chỉ': 4, 'hình': 1, 'như': 4, 'mấy': 2, 'lần': 4, 'ba': 8, 'trẻ': 2, 'lắm': 1, 'hay': 4, 'ốm': 1, 'lửng': 1, 'bóp': 1, 'chân': 1, 'xoa': 1, 'bụng': 2, 'đấm': 2, 'lưng': 3, 'bảo': 6, 'đình': 1, 'hách': 2, 'dịch': 2, 'sợ': 4, 'về': 6, 'còn': 2, 'ấy': 4, 'phốp': 1, 'pháp': 1, 'má': 1, 'hây': 2, 'đau': 2, 'lắm;': 1, 'bệnh': 1, 'vợ': 1, 'chúa': 1, 'khoẻ': 2, 'ghen': 2, 'mạnh': 1, 'dám': 3, 'nói': 4, 'quyền': 2, 'thu': 1, 'bổ': 1, 'tin': 1, 'cẩn': 1, 'nên': 1, 'trộm': 2, 'tiền': 1, 'thóc': 1, 'nhiều': 1, 'mỗi': 1, 'cách': 1, 'đâu': 5, 'hôm': 4, 'bị': 2, 'giải': 1, 'huyện': 1, 'nghe': 3, 'tù': 2, 'biệt': 1, 'tăm': 1, 'bảy': 1, 'tám': 1, 'lù': 2, 'trông': 4, 'khác': 1, 'hẳn': 2, 'mới': 5, 'đặc': 1, 'sắng': 1, 'cá': 1, 'trọc': 1, 'lốc': 1, 'răng': 1, 'cạo': 1, 'trắng': 1, 'hớn': 1, 'mặt': 2, 'đen': 2, 'rất': 2, 'cơng': 2, 'mắt': 1, 'gườm': 2, 'gớm': 2, 'mặc': 2, 'quần': 1, 'áo': 2, 'nái': 1, 'tây': 1, 'vàng': 1, 'ngực': 1, 'phanh': 1, 'đầy': 1, 'những': 1, 'nét': 1, 'chạm': 1, 'trổ': 1, 'rồng': 1, 'phượng': 1, 'tướng': 1, 'cầm': 2, 'chùy': 1, 'cánh': 1, 'tay': 2, 'trước': 1, 'sau': 1, 'ngồi': 1, 'chợ': 1, 'uống': 1, 'thịt': 1, 'chó': 2, 'suốt': 1, 'từ': 1, 'trưa': 1, 'xế': 1, 'chiều': 1, 'say': 3, 'khướt': 1, 'xách': 1, 'vỏ': 2, 'chai': 3, 'cổng': 3, 'gọi': 3, 'tận': 1, 'tên': 1, 'tục': 1, 'điệu': 1, 'bộ': 1, 'hung': 1, 'hăng': 1, 'đùn': 1, 'thúc': 1, 'tư': 2, 'kết': 1, 'cục': 1, 'vài': 1, 'lời': 1, 'chăng': 1, 'mắc': 1, 'liều': 1, 'lĩnh': 1, 'quá': 1, 'lăm': 2, 'lúc': 1, 'toàn': 1, 'thôi': 5, 'đóng': 1, 'chặt': 1, 'thây': 1, 'tai': 2, 'liền': 1, 'miệng': 2, 'thành': 1, 'thử': 2, 'dữ': 1, 'ầm': 1, 'ỹ': 1, 'hàng': 1, 'xóm': 1, 'bữa': 1, 'điếc': 1, 'lẽ': 1, 'họ': 5, 'hả': 1, 'xưa': 1, 'nay': 1, 'sướng': 1, 'ngoa': 1, 'phen': 1, 'đố': 1, 'vác': 1, 'nữa': 1, 'mồ': 1, 'mả': 1, 'tổ': 1, 'lộn': 1, 'hiền': 1, 'lành': 1, 'hơn': 1, 'phúc': 1, 'đây': 1, 'cường': 5, 'giai': 1, 'nổi': 1, 'coi': 1, 'rơm': 1, 'rác': 1, 'xem': 1, 'quả': 1, 'nhiên': 1, 'sai': 1, 'sang': 1, 'sảng': 1, 'quát': 2, 'mày': 2, 'muốn': 2, 'lôi': 2, 'tháo': 1, 'kia': 1, 'tát': 1, 'kêu': 4, 'ôi': 1, 'đá': 1, 'bình': 1, 'bịch': 1, 'tan': 1, 'xương': 1, 'bỗng': 1, 'choang': 1, 'đập': 1, 'vào': 1, 'cột': 1, 'cắt': 1, 'họng': 1}\n"
     ]
    }
   ],
   "source": [
    "vanban = '''Hắn vừa đi vừa chửi. Bao giờ cũng thế, cứ rượu xong là hắn chửi. Bắt đầu chửi trời, có hề gì? Trời có của riêng nhà nào? Rồi hắn chửi đời. Thế cũng chẳng sao: Đời là tất cả nhưng cũng chẳng là ai. Tức mình hắn chửi ngay tất cả làng Vũ Đại. Nhưng cả làng Vũ Đại ai cũng nhủ: “Chắc nó trừ mình ra!”. Không ai lên tiếng cả. Tức thật! Ồ thế này thì tức thật! Tức chết đi được mất! Đã thế, hắn phải chửi cha đứa nào không chửi nhau với hắn. Nhưng cũng không ai ra điều. Mẹ kiếp! Thế thì có phí rượu không? Thế thì có khổ hắn không? Không biết đứa chết mẹ nào đẻ ra thân hắn cho hắn khổ đến nông nỗi này! A ha! Phải đấy hắn cứ thế mà chửi, hắn chửi đứa chết mẹ nào đẻ ra thân hắn, đẻ ra cái thằng Chí Phèo? Mà có trời biết! Hắn không biết, cả làng Vũ Đại cũng không ai biết.\n",
    "\n",
    "\n",
    "Một anh đi thả ống lươn, một buổi sáng tinh sương đã thấy hắn trần truồng và xám ngắt trong cái váy đụp để bên một lò gạch bỏ không, anh ta rước lấy và đem cho một người đàn bà góa mù. Người đàn bà góa mù này bán hắn cho một bác phó cối không con và khi bác phó cối này chết thì hắn bơ vơ, hết đi ở cho nhà này lại đi ở cho nhà nọ. Năm hai mươi tuổi, hắn làm canh điền cho ông lý Kiến, bây giờ cụ bá Kiến, ăn tiên chỉ làng. Hình như, có mấy lần bà ba nhà ông lý, trẻ lắm mà lại hay ốm lửng, bắt hắn bóp chân, hay xoa bụng, đấm lưng gì đấy. Người ta bảo ông lý ra đình thì hách dịch, cả làng phải sợ, mà về nhà phải sợ cái bà ba còn trẻ này. Người bà ấy phốp pháp, má bà ấy hây hây, mà ông lý thì hay đau lưng lắm; người có bệnh đau lưng thì hay sợ vợ mà chúa đời là khoẻ ghen. Có người bảo ông lý ghen anh canh điền khoẻ mạnh mà sợ bà ba không dám nói. Có người thì bảo anh canh điền ấy được bà ba quyền thu quyền bổ trong nhà tin cẩn nên lấy trộm tiền trộm thóc nhiều. Mỗi người nói một cách. Chẳng biết đâu mà lần. Chỉ biết một hôm Chí bị giải huyện rồi nghe đâu phải đi tù. Không biết tù mấy năm, nhưng hắn đi biệt tăm bảy, tám năm, rồi một hôm, hắn lại lù lù ở đâu lần về. Hắn về lần này trông khác hẳn, mới đầu chẳng ai biết hắn là ai. Trông đặc như thằng sắng cá! Cái đầu thì trọc lốc, cái răng cạo trắng hớn, cái mặt thì đen mà rất cơng cơng, hai mắt gườm gườm trông gớm chết! Hắn mặc quần áo nái đen với cái áo tây vàng. Cái ngực phanh đầy những nét chạm trổ rồng, phượng với một ông tướng cầm chùy, cả hai cánh tay cũng thế. Trông gớm chết!\n",
    "\n",
    "Hắn về hôm trước, hôm sau đã thấy ngồi ở chợ uống rượu với thịt chó suốt từ trưa đến xế chiều. Rồi say khướt, hắn xách một cái vỏ chai đến cổng nhà bá Kiến, gọi tận tên tục ra mà chửi. Cụ bá không có nhà. Thấy điệu bộ hung hăng của hắn, bà cả đùn bà hai, bà hai thúc bà ba, bà ba gọi bà tư, nhưng kết cục chẳng bà nào dám ra nói với hắn một vài lời phải chăng. Mắc cái phải cái thằng liều lĩnh quá, nó lại say rượu, tay nó lại lăm lăm cầm một cái vỏ chai, mà nhà lúc ấy toàn đàn bà cả... Thôi thì cứ đóng cái cổng cho thật chặt, rồi mặc thây cha nó, nó chửi thì tai liền miệng đấy, chửi thì lại nghe! Thành thử chỉ có ba con chó dữ với một thằng say rượu!... Thật là ầm ỹ! Hàng xóm phải một bữa điếc tai, nhưng có lẽ trong bụng thì họ hả: xưa nay họ mới chỉ được nghe bà cả, bà hai, bà ba, bà tư nhà cụ bá chửi người ta, bây giờ họ mới thấy người ta chửi lại cả nhà cụ bá. Mà chửi mới sướng miệng làm sao! Mới ngoa ngắt làm sao. Họ bảo nhau: Phen này cha con thằng bá Kiến đố còn dám vác mặt đi đâu nữa! Mồ mả tổ tiên đến lộn lên mất. Cũng có người hiền lành hơn bảo: “Phúc đời nhà nó, chắc ông lý không có nhà...”. Ông lý đây là ông lý Cường, con giai cụ Bá nổi tiếng là hách dịch, coi người như rơm rác. Phải ông lý Cường thử có nhà xem nào! Quả nhiên họ nói có sai đâu! Đấy, có tiếng người sang sảng quát: “Mày muốn lôi thôi gì?... Cái thằng không cha không mẹ này! Mày muốn lôi thôi gì?...” Đã bảo mà! Cái tiếng quát tháo kia là tiếng lý Cường. Lý Cường đã về! Lý Cường đã về! Phải biết... A ha! Một cái tát rất kêu. Ôi! Cái gì thế này? Tiếng đấm tiếng đá nhau bình bịch. Thôi, cứ gọi là tan xương! Bỗng “choang” một cái, thôi phải rồi, hẳn đập cái chai vào cột cổng... ồ hắn kêu! Hắn vừa chửi vừa kêu làng như bị người ta cắt họng. Ồ hắn kêu!'''\n",
    "vanban = vanban.replace(\".\",\"\")\n",
    "vanban = vanban.replace(\",\",\"\")\n",
    "vanban = vanban.replace(\"?\",\"\")\n",
    "vanban = vanban.replace(\"“\",\"\")\n",
    "vanban = vanban.replace(\"”\",\"\")\n",
    "vanban = vanban.replace(\"!\",\"\")\n",
    "vanban = vanban.replace(\":\",\"\")\n",
    "\n",
    "vanban = vanban.lower()\n",
    "\n",
    "vanban = vanban.split()\n",
    "\n",
    "D_sotu = {}\n",
    "\n",
    "for i in vanban:\n",
    "    if i not in D_sotu:\n",
    "        D_sotu[i] = 0\n",
    "    D_sotu[i] += 1\n",
    "\n",
    "print(D_sotu)"
   ]
  },
  {
   "cell_type": "markdown",
   "id": "57c6f1e7",
   "metadata": {},
   "source": [
    "Viết chương trình cho phép người dùng quản lý sản phẩm, gồm các chức năng sau: \n",
    "\n",
    "- Hiển thị danh sách sản phẩm\n",
    "- Thêm sản phẩm mới vào danh sách\n",
    "- Sửa tên của sản phẩm trong danh sách\n",
    "- Xoá một sản phẩm khỏi danh sách"
   ]
  },
  {
   "cell_type": "code",
   "execution_count": null,
   "id": "8541b8c3",
   "metadata": {},
   "outputs": [],
   "source": []
  }
 ],
 "metadata": {
  "kernelspec": {
   "display_name": "Python 3 (ipykernel)",
   "language": "python",
   "name": "python3"
  },
  "language_info": {
   "codemirror_mode": {
    "name": "ipython",
    "version": 3
   },
   "file_extension": ".py",
   "mimetype": "text/x-python",
   "name": "python",
   "nbconvert_exporter": "python",
   "pygments_lexer": "ipython3",
   "version": "3.10.7"
  }
 },
 "nbformat": 4,
 "nbformat_minor": 5
}
