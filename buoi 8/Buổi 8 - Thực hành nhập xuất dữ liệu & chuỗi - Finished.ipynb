{
 "cells": [
  {
   "cell_type": "markdown",
   "id": "5bc93fb0",
   "metadata": {},
   "source": [
    "# Thực hành nhập xuất dữ liệu & chuỗi\n",
    "\n",
    "### Bài tập tra cứu lệnh\n",
    "\n",
    "Nhập vào một chuỗi, kiểm tra xem chuỗi đó có ký tự nào là chữ in hoa hay không, nếu có thì in True, không có thì in False"
   ]
  },
  {
   "cell_type": "code",
   "execution_count": 7,
   "id": "4b3df2ba",
   "metadata": {},
   "outputs": [
    {
     "name": "stdout",
     "output_type": "stream",
     "text": [
      "Nhập vào chuỗi:Xin chào\n",
      "True\n"
     ]
    }
   ],
   "source": [
    "chuoi = input(\"Nhập vào chuỗi:\")\n",
    "kiemtra = not chuoi.islower()\n",
    "print(kiemtra)"
   ]
  },
  {
   "cell_type": "markdown",
   "id": "e14eae7c",
   "metadata": {},
   "source": [
    "Nhập vào một chuỗi, kiểm tra xem chuỗi đó có ký tự nào là chữ in thường hay không, nếu có thì in True, không có thì in False"
   ]
  },
  {
   "cell_type": "code",
   "execution_count": 10,
   "id": "ab00180c",
   "metadata": {},
   "outputs": [
    {
     "name": "stdout",
     "output_type": "stream",
     "text": [
      "Nhập vào chuỗi:XiN CHÀO\n",
      "True\n"
     ]
    }
   ],
   "source": [
    "chuoi = input(\"Nhập vào chuỗi:\")\n",
    "kiemtra = not chuoi.isupper()\n",
    "print(kiemtra)"
   ]
  },
  {
   "cell_type": "markdown",
   "id": "eab86ecf",
   "metadata": {},
   "source": [
    "Nhập vào một chuỗi a và chuỗi b, tìm vị trí đầu tiên xuất hiện chuỗi b trong chuỗi a"
   ]
  },
  {
   "cell_type": "code",
   "execution_count": 13,
   "id": "051eb4af",
   "metadata": {},
   "outputs": [
    {
     "name": "stdout",
     "output_type": "stream",
     "text": [
      "Nhập chuỗi a:xin chào các bạn, xin chào mọi người\n",
      "Nhập chuỗi b:chào\n",
      "4\n"
     ]
    }
   ],
   "source": [
    "a = input(\"Nhập chuỗi a:\")\n",
    "b = input(\"Nhập chuỗi b:\")\n",
    "x = a.find(b)\n",
    "print(x)"
   ]
  },
  {
   "cell_type": "code",
   "execution_count": 14,
   "id": "d943e864",
   "metadata": {},
   "outputs": [
    {
     "name": "stdout",
     "output_type": "stream",
     "text": [
      "Nhập chuỗi a:xin chào các bạn, xin chào mọi người\n",
      "Nhập chuỗi b:chào\n",
      "22\n"
     ]
    }
   ],
   "source": [
    "a = input(\"Nhập chuỗi a:\")\n",
    "b = input(\"Nhập chuỗi b:\")\n",
    "x = a.rfind(b) ## right find ~~> tìm từ bên phải\n",
    "print(x)"
   ]
  },
  {
   "cell_type": "markdown",
   "id": "9239bc4e",
   "metadata": {},
   "source": [
    "Nhập vào một chuỗi a, hãy xóa từ đầu tiên trong chuỗi a, rồi in ra màn hình"
   ]
  },
  {
   "cell_type": "code",
   "execution_count": 19,
   "id": "90967cd9",
   "metadata": {},
   "outputs": [
    {
     "name": "stdout",
     "output_type": "stream",
     "text": [
      "Nhập chuỗi a:Phương hôm nay học giỏi vậy\n",
      "hôm nay học giỏi vậy\n"
     ]
    }
   ],
   "source": [
    "a = input(\"Nhập chuỗi a:\")\n",
    "\n",
    "vt_khoang_trang = a.find(\" \")\n",
    "\n",
    "chuoi = a[vt_khoang_trang + 1:]\n",
    "\n",
    "print(chuoi)"
   ]
  },
  {
   "cell_type": "markdown",
   "id": "05b74fb4",
   "metadata": {},
   "source": [
    "### Bài 1\n",
    "\n",
    "Nhập vào một chuỗi, đếm xem có bao nhiêu từ trong chuỗi kết thúc bằng chữ n"
   ]
  },
  {
   "cell_type": "code",
   "execution_count": 26,
   "id": "d126675c",
   "metadata": {},
   "outputs": [
    {
     "name": "stdout",
     "output_type": "stream",
     "text": [
      "Nhập chuỗi a:Phương hôm nay học giỏi vậy, và Linh cũng thế\n",
      "Phương hôm nay học giỏi vậy, và Linh cũng thế \n",
      "0\n"
     ]
    }
   ],
   "source": [
    "a = input(\"Nhập chuỗi a:\")\n",
    "### chỉ nhập chuỗi có chữ cái, khoảng trắng, dấu phẩy và dấu chấm\n",
    "a += \" \"\n",
    "\n",
    "dem = a.count(\"n \") + a.count(\"n,\") + a.count(\"n.\")\n",
    "\n",
    "print(dem)"
   ]
  },
  {
   "cell_type": "markdown",
   "id": "53a78d35",
   "metadata": {},
   "source": [
    "### Bài 2\n",
    "\n",
    "Nhập vào một chuỗi, kiểm tra xem chuỗi đó có ký tự hoa hoặc ký tự thường hay không."
   ]
  },
  {
   "cell_type": "code",
   "execution_count": null,
   "id": "f5be8c39",
   "metadata": {},
   "outputs": [],
   "source": []
  },
  {
   "cell_type": "markdown",
   "id": "64ca662e",
   "metadata": {},
   "source": [
    "### Bài 3\n",
    "\n",
    "Nhập vào một chuỗi, kiểm tra tính đối xứng của chuỗi đó"
   ]
  },
  {
   "cell_type": "code",
   "execution_count": 32,
   "id": "749f4136",
   "metadata": {},
   "outputs": [
    {
     "name": "stdout",
     "output_type": "stream",
     "text": [
      "Nhập chuỗi a:abccba\n",
      "True\n"
     ]
    }
   ],
   "source": [
    "a = input(\"Nhập chuỗi a:\")\n",
    "\n",
    "b = a[::-1]\n",
    "\n",
    "print(a == b)"
   ]
  },
  {
   "cell_type": "markdown",
   "id": "85dd8fef",
   "metadata": {},
   "source": [
    "### Bài 4\n",
    "\n",
    "Nhập vào một chuỗi, in ra các ký tự trong chuỗi và nếu là ký tự hoa thì in kèm True, ký tự thường thì in kèm False"
   ]
  },
  {
   "cell_type": "code",
   "execution_count": 39,
   "id": "0d099247",
   "metadata": {},
   "outputs": [
    {
     "name": "stdout",
     "output_type": "stream",
     "text": [
      "Nhập chuỗi a:xin Chào CÁC bạn\n",
      "x False\n",
      "i False\n",
      "n False\n",
      "  False\n",
      "C True\n",
      "h False\n",
      "à False\n",
      "o False\n",
      "  False\n",
      "C True\n",
      "Á True\n",
      "C True\n",
      "  False\n",
      "b False\n",
      "ạ False\n",
      "n False\n"
     ]
    }
   ],
   "source": [
    "a = input(\"Nhập chuỗi a:\")\n",
    "\n",
    "index = 0\n",
    "do_dai = len(a)\n",
    "for i in range(do_dai):\n",
    "    print(a[index],a[index].isupper())\n",
    "    index += 1"
   ]
  },
  {
   "cell_type": "markdown",
   "id": "1373dc74",
   "metadata": {},
   "source": [
    "### Bài 5\n",
    "\n",
    "Nhập vào một chuỗi, tìm các ký tự chỉ xuất hiện một lần trong chuỗi (nếu xuất hiện 1 lần in true, xuất hiện nhiều lần in false)\n",
    "\n",
    "Ví dụ:\n",
    "\n",
    "Nhập chuỗi: \"ABAbc\"\n",
    "\n",
    "In:\n",
    "\n",
    "A: False\n",
    "\n",
    "B: True\n",
    "\n",
    "A: False\n",
    "\n",
    "b: True\n",
    "\n",
    "c: True"
   ]
  },
  {
   "cell_type": "code",
   "execution_count": 20,
   "id": "a93bc53d",
   "metadata": {},
   "outputs": [
    {
     "name": "stdout",
     "output_type": "stream",
     "text": [
      "Nhập chuỗi a:aa bb\n",
      "a False\n",
      "a False\n",
      "  True\n",
      "b False\n",
      "b False\n"
     ]
    }
   ],
   "source": [
    "a = input(\"Nhập chuỗi a:\")\n",
    "\n",
    "index = 0\n",
    "do_dai = len(a)\n",
    "for i in range(do_dai):\n",
    "    print(a[index],a.count(a[index]) == 1)\n",
    "    index += 1"
   ]
  },
  {
   "cell_type": "markdown",
   "id": "69bebf4c",
   "metadata": {},
   "source": [
    "### Bài 6\n",
    "\n",
    "Nhập vào một chuỗi, kiểm tra trong chuỗi có con số hay không, nếu có in True, không có in False"
   ]
  },
  {
   "cell_type": "code",
   "execution_count": 8,
   "id": "6419403d",
   "metadata": {},
   "outputs": [
    {
     "name": "stdout",
     "output_type": "stream",
     "text": [
      "Nhập chuỗi a:123sadasd\n",
      "True\n"
     ]
    }
   ],
   "source": [
    "a = input(\"Nhập chuỗi a:\")\n",
    "b = not a.isalpha()\n",
    "print(b)"
   ]
  },
  {
   "cell_type": "markdown",
   "id": "1e51403c",
   "metadata": {},
   "source": [
    "### Bài 7\n",
    "\n",
    "Nhập vào một chuỗi, tách những con số có trong chuỗi ra rồi tính tổng của chúng\n",
    "\n",
    "In tổng lên màn hình"
   ]
  },
  {
   "cell_type": "code",
   "execution_count": 18,
   "id": "a34e349d",
   "metadata": {
    "scrolled": true
   },
   "outputs": [
    {
     "name": "stdout",
     "output_type": "stream",
     "text": [
      "Nhập chuỗi a:abc22sdadj333\n",
      "13\n"
     ]
    }
   ],
   "source": [
    "a = input(\"Nhập chuỗi a:\")\n",
    "\n",
    "num = 0\n",
    "tong = 0\n",
    "for i in range(10):\n",
    "    dem = a.count(str(num))\n",
    "    tong += num*dem\n",
    "    num += 1\n",
    "    \n",
    "print(tong)"
   ]
  },
  {
   "cell_type": "markdown",
   "id": "e951779d",
   "metadata": {},
   "source": [
    "### Bài 8\n",
    "\n",
    "Nhập vào một chuỗi, đảo ngược chuỗi đã nhập rồi in ra màn hình"
   ]
  },
  {
   "cell_type": "code",
   "execution_count": 19,
   "id": "9305f0f1",
   "metadata": {},
   "outputs": [
    {
     "name": "stdout",
     "output_type": "stream",
     "text": [
      "Nhập chuỗi a:alkfjkldaf\n",
      "fadlkjfkla\n"
     ]
    }
   ],
   "source": [
    "a = input(\"Nhập chuỗi a:\")\n",
    "\n",
    "b = a[::-1]\n",
    "print(b)"
   ]
  },
  {
   "cell_type": "markdown",
   "id": "04194b5c",
   "metadata": {},
   "source": [
    "### Bài 9\n",
    "\n",
    "Nhập vào một chuỗi, kiểm tra xem mỗi từ trong chuỗi có được viết hoa chữ cái đầu hay không, nếu tất cả đều được viết hoa thì in ra True, còn không thì in ra False\n",
    "\n",
    "Trong trường hợp là False, hãy viết hoa tất cả các chữ cái đầu của mỗi từ rồi in lên màn hình\n",
    "\n",
    "Cách làm thông thường:"
   ]
  },
  {
   "cell_type": "code",
   "execution_count": null,
   "id": "9f947c7d",
   "metadata": {},
   "outputs": [],
   "source": []
  },
  {
   "cell_type": "markdown",
   "id": "f43e32af",
   "metadata": {},
   "source": [
    "Cách sử dụng lệnh có sẵn:"
   ]
  },
  {
   "cell_type": "code",
   "execution_count": null,
   "id": "714f1412",
   "metadata": {},
   "outputs": [],
   "source": []
  }
 ],
 "metadata": {
  "kernelspec": {
   "display_name": "Python 3 (ipykernel)",
   "language": "python",
   "name": "python3"
  },
  "language_info": {
   "codemirror_mode": {
    "name": "ipython",
    "version": 3
   },
   "file_extension": ".py",
   "mimetype": "text/x-python",
   "name": "python",
   "nbconvert_exporter": "python",
   "pygments_lexer": "ipython3",
   "version": "3.10.7"
  }
 },
 "nbformat": 4,
 "nbformat_minor": 5
}
