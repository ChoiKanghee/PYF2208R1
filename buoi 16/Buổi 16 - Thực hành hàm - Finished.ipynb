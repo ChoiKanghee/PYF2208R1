{
 "cells": [
  {
   "cell_type": "markdown",
   "id": "028ffec3",
   "metadata": {},
   "source": [
    "# Thực hành hàm\n",
    "\n",
    "### Bài 1\n",
    "\n",
    "Viết hàm có dữ liệu đầu vào là 2 số a và b, số nào lớn hơn thì in bảng cửu chương của số đó"
   ]
  },
  {
   "cell_type": "code",
   "execution_count": 3,
   "id": "1974966b",
   "metadata": {},
   "outputs": [
    {
     "name": "stdout",
     "output_type": "stream",
     "text": [
      "12 x 1 = 12\n",
      "12 x 2 = 24\n",
      "12 x 3 = 36\n",
      "12 x 4 = 48\n",
      "12 x 5 = 60\n",
      "12 x 6 = 72\n",
      "12 x 7 = 84\n",
      "12 x 8 = 96\n",
      "12 x 9 = 108\n",
      "12 x 10 = 120\n"
     ]
    }
   ],
   "source": [
    "### 2 số a và b là 2 tham số (parameter) của hàm\n",
    "def in_bang_cuu_chuong(a,b):\n",
    "    if b > a:\n",
    "        a = b\n",
    "    for i in range(1,11):\n",
    "        print(a,\"x\",i,\"=\",a*i)\n",
    "    \n",
    "in_bang_cuu_chuong(12,7)"
   ]
  },
  {
   "cell_type": "markdown",
   "id": "9de8ffaa",
   "metadata": {},
   "source": [
    "### Bài 2\n",
    "\n",
    "Viết hàm `xoachuoi` có dữ liệu đầu vào là 2 chuỗi a và b, hãy tìm trong chuỗi a có chuỗi b hay không, nếu có hãy xóa toán bộ chuỗi b trong a.\n",
    "\n",
    "Sau đó trả về chuỗi a mới\n",
    "\n",
    "Ví dụ:\n",
    "\n",
    "chuoi1 = \"xin chào các bạn, các bạn có khỏe không?\"\n",
    "\n",
    "chuoi2 = \"các bạn\"\n",
    "\n",
    "chuoi3 = xoachuoi(chuoi1,chuoi2)\n",
    "\n",
    "print(chuoi3)\n",
    "\n",
    "Kết quả in ra là:\n",
    "xin chào ,  có khỏe không"
   ]
  },
  {
   "cell_type": "code",
   "execution_count": 7,
   "id": "05de1584",
   "metadata": {},
   "outputs": [
    {
     "name": "stdout",
     "output_type": "stream",
     "text": [
      "xin chào ,  có khỏe không?\n"
     ]
    }
   ],
   "source": [
    "def xoachuoi(chuoi1,chuoi2):\n",
    "    tim = chuoi1.replace(chuoi2,\"\")\n",
    "    return tim\n",
    "\n",
    "chuoi3 = xoachuoi(\"xin chào các bạn, các bạn có khỏe không?\", \"các bạn\")\n",
    "print(chuoi3)"
   ]
  },
  {
   "cell_type": "markdown",
   "id": "d626394e",
   "metadata": {},
   "source": [
    "### Bài 3\n",
    "\n",
    "Viết hàm `kiemtramatkhau` với dữ liệu đầu vào là 1 chuỗi có công dụng như sau:\n",
    "\n",
    "Kiểm tra xem chuỗi đầu vào có phải là mật khẩu mạnh hay không, nếu có trả về True, nếu không trả về False\n",
    "\n",
    "Mật khẩu mạnh là mật khẩu phải có ít nhất 1 chữ hoa, 1 chữ thường, 1 số và 1 ký tự đặc biệt"
   ]
  },
  {
   "cell_type": "code",
   "execution_count": 12,
   "id": "875d88f5",
   "metadata": {},
   "outputs": [
    {
     "name": "stdout",
     "output_type": "stream",
     "text": [
      "False\n"
     ]
    }
   ],
   "source": [
    "def kiemtramatkhau(chuoi):\n",
    "    kt_hoa = False\n",
    "    kt_thuong = False\n",
    "    kt_so = False\n",
    "    kt_db = False\n",
    "    for i in chuoi:\n",
    "        if i.isupper():\n",
    "            kt_hoa = True\n",
    "        elif i.islower():\n",
    "            kt_thuong = True\n",
    "        elif i.isnumeric():\n",
    "            kt_so = True\n",
    "        else:\n",
    "            kt_db = True\n",
    "        if kt_hoa and kt_thuong and kt_so and kt_db:\n",
    "            return True ### nếu tất cả điều kiện đều đúng ~~> return True thì return False sẽ không chạy\n",
    "        #### nhưng nếu chạy hết for rồi mà tất cả điều kiện chưa đúng ~~> return False\n",
    "    return False\n",
    "\n",
    "matkhau = \"abcASAA23\"\n",
    "print(kiemtramatkhau(matkhau))"
   ]
  },
  {
   "cell_type": "markdown",
   "id": "1572568f",
   "metadata": {},
   "source": [
    "### Bài 4\n",
    "\n",
    "Viết hàm có 5 dữ liệu đầu vào là 5 số nguyên, tìm giá trị lớn nhì trong 5 số đó"
   ]
  },
  {
   "cell_type": "code",
   "execution_count": null,
   "id": "bd3159ed",
   "metadata": {},
   "outputs": [],
   "source": [
    "#### đoạn code đưa số nhỏ nhất lên a với 3 số a, b, c\n",
    "\n",
    "if a > b:\n",
    "    a, b = b, a ## đổi chỗ a và b\n",
    "if a > c:\n",
    "    a, c = c, a ## đổi chỗ a và c"
   ]
  },
  {
   "cell_type": "code",
   "execution_count": 8,
   "id": "876707ae",
   "metadata": {},
   "outputs": [
    {
     "name": "stdout",
     "output_type": "stream",
     "text": [
      "9\n"
     ]
    }
   ],
   "source": [
    "def tim_max_nhi(a,b,c,d,e):\n",
    "    ### tìm số lớn nhất ~~> đưa vào a (các số còn lại là b, c, d, e)\n",
    "    ### tìm số lớn nhất lần nữa trong 4 số (b, c, d, e) ~~> ra được số lớn nhì\n",
    "    \n",
    "    \n",
    "    #### đưa số lớn nhất lên a\n",
    "    if a < b:\n",
    "        a, b = b, a\n",
    "    if a < c:\n",
    "        a, c = c, a\n",
    "    if a < d:\n",
    "        a, d = d, a\n",
    "    if a < e:\n",
    "        a, e = e, a\n",
    "        \n",
    "        \n",
    "    #### đưa số lớn nhì lên b\n",
    "    if b < c:\n",
    "        b, c = c, b\n",
    "    if b < d:\n",
    "        b, d = d, b\n",
    "    if b < e:\n",
    "        b, e = e, b\n",
    "    \n",
    "    return b\n",
    "    \n",
    "print(tim_max_nhi(5,9,8,15,2))"
   ]
  },
  {
   "cell_type": "markdown",
   "id": "974d7da1",
   "metadata": {},
   "source": [
    "### Bài 5\n",
    "\n",
    "Nhập vào 2 cặp tọa độ tâm đường tròn và 2 bán kính R\n",
    "\n",
    "Hãy vẽ 2 hình tròn theo tọa độ và bán kính trên (tọa độ thứ nhất và bán kính thứ nhất là hình tròn thứ nhất, tọa độ thứ 2 với bán kính thứ 2 là hình tròn thứ hai)\n",
    "\n",
    "Viết hàm kiểm tra xem 2 hình tròn trên cắt nhau bao nhiêu điểm"
   ]
  },
  {
   "cell_type": "code",
   "execution_count": null,
   "id": "f7722021",
   "metadata": {},
   "outputs": [],
   "source": []
  },
  {
   "cell_type": "markdown",
   "id": "a2157de8",
   "metadata": {},
   "source": [
    "### Bài 6\n",
    "\n",
    "Nhập vào 2 tọa độ là 2 đỉnh của một hình chữ nhật\n",
    "\n",
    "Sau đó\n",
    "\n",
    "Nhập vào tọa độ tâm đường tròn và bán kính R\n",
    "\n",
    "Hãy vẽ hình hình chữ nhật và đường tròn trên\n",
    "\n",
    "Viết hàm kiểm tra xem đường tròn trên và hình chữ nhật cắt nhau tại bao nhiêu điểm"
   ]
  },
  {
   "cell_type": "code",
   "execution_count": null,
   "id": "e0d7b1a2",
   "metadata": {},
   "outputs": [],
   "source": []
  },
  {
   "cell_type": "markdown",
   "id": "d1491579",
   "metadata": {},
   "source": [
    "### Bài 7\n",
    "\n",
    "Viết hàm kiểm tra số nguyên tố\n",
    "\n",
    "Viết hàm kiểm tra số hoàn hảo\n",
    "\n",
    "Viết hàm kiểm tra số chính phương\n",
    "\n",
    "Viết hàm kiểm tra số Armstrong\n",
    "\n",
    "Nhập vào một chuỗi, hãy lọc và tìm ra những số ở trong chuỗi (2 chữ số liền nhau là một chuỗi)\n",
    "\n",
    "Ví dụ chuỗi: \"AB25SDc5DSjjh52\"\n",
    "\n",
    "Trong chuỗi này ta có 3 số: 25, 5 và 52\n",
    "\n",
    "Sau khi lọc số, dùng các hàm trên để kiểm tra và thực hiện như sau:\n",
    "\n",
    "Cho biến S\n",
    "\n",
    "- Nếu số đó là số nguyên tố, ta thực hiện S += số đó\n",
    "- Nếu số đó là số hoàn hảo, ta thực hiện S -= số đó\n",
    "- Nếu số đó là số chính phương, ta thực hiện S /= số đó\n",
    "- Nếu đó là số Armstrong ta cho S = 0\n",
    "\n",
    "Hãy tính và in S"
   ]
  },
  {
   "cell_type": "code",
   "execution_count": 14,
   "id": "0b699e33",
   "metadata": {},
   "outputs": [
    {
     "name": "stdout",
     "output_type": "stream",
     "text": [
      "False\n"
     ]
    }
   ],
   "source": [
    "##### đưa vào một số nguyên dương, trả về True nếu số đó là số nguyên tố, ngược lại trả về False\n",
    "\n",
    "def songuyento(a):\n",
    "    if a%1 != 0 or a < 0:\n",
    "        return False\n",
    "    if a < 2:\n",
    "        return False\n",
    "    #### không chia hết cho số nào trong khoảng từ 2 đến a - 1 thì nó là True\n",
    "    for i in range(2,a):\n",
    "        if a%i == 0:\n",
    "            return False\n",
    "    return True\n",
    "\n",
    "def sohoanhao(a):\n",
    "    #### số hoàn hảo là số có tổng các ước của nó bằng chính nó\n",
    "    tong = 0\n",
    "    for uoc in range(1,a): ## không tính a\n",
    "        if a % uoc == 0:\n",
    "            tong += uoc\n",
    "            if tong > a:\n",
    "                return False\n",
    "    if tong == a:\n",
    "        return True\n",
    "    return False\n",
    "\n",
    "def sochinhphuong(a):\n",
    "    cana = a**0.5\n",
    "    if cana % 1 == 0:\n",
    "        return True\n",
    "    return False\n",
    "\n",
    "def ArmStrong(a):\n",
    "    a = str(a)\n",
    "    dodai = len(a)\n",
    "    tong = 0\n",
    "    for i in a:\n",
    "        tong += int(i)**dodai\n",
    "    a = int(a)\n",
    "    if tong == a:\n",
    "        return True\n",
    "    return False\n",
    "\n",
    "print(ArmStrong(152))"
   ]
  }
 ],
 "metadata": {
  "kernelspec": {
   "display_name": "Python 3 (ipykernel)",
   "language": "python",
   "name": "python3"
  },
  "language_info": {
   "codemirror_mode": {
    "name": "ipython",
    "version": 3
   },
   "file_extension": ".py",
   "mimetype": "text/x-python",
   "name": "python",
   "nbconvert_exporter": "python",
   "pygments_lexer": "ipython3",
   "version": "3.10.7"
  }
 },
 "nbformat": 4,
 "nbformat_minor": 5
}
