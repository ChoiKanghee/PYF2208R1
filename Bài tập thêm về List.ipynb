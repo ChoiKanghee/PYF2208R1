{
 "cells": [
  {
   "cell_type": "markdown",
   "id": "5761f2a7",
   "metadata": {},
   "source": [
    "Hãy kiểm tra mảng số nguyên có tồn tại hai giá trị không liên tiếp hay không ?"
   ]
  },
  {
   "cell_type": "code",
   "execution_count": 9,
   "id": "a0acf4b7",
   "metadata": {},
   "outputs": [
    {
     "name": "stdout",
     "output_type": "stream",
     "text": [
      "False\n",
      "True\n"
     ]
    }
   ],
   "source": [
    "## kiểm tra list có 2 số 0 liên tiếp hay không\n",
    "def kiem_tra_khong(L):\n",
    "    for i in range(len(L)-1) :\n",
    "        if L[i]==0 and L[i+1]==0:\n",
    "            return True\n",
    "    return False\n",
    "    \n",
    "L1 = [2,3,4,6,7,8,10,0,2,3,7] ### trả về False\n",
    "L2 = [2,3,4,6,7,8,10,0,0,3,4] ### trẻ về True\n",
    "\n",
    "print(kiem_tra_khong(L1))\n",
    "print(kiem_tra_khong(L2))"
   ]
  },
  {
   "cell_type": "markdown",
   "id": "ae867e74",
   "metadata": {},
   "source": [
    "Hãy kiểm tra mảng số nguyên có tồn tại giá trị chẵn hay không? Nếu không tồn tại giá trị chẵn trả về giá trị 0, hay ngược lại trả về 1."
   ]
  },
  {
   "cell_type": "code",
   "execution_count": 13,
   "id": "1abdd057",
   "metadata": {},
   "outputs": [
    {
     "name": "stdout",
     "output_type": "stream",
     "text": [
      "1\n"
     ]
    }
   ],
   "source": [
    "def kiem_tra_chan(L):\n",
    "    ## for i in range(len(L)): ### i sẽ chạy từ 0 đến len(L)-1\n",
    "    ## for i in L: ### i sẽ lấy giá trị từng phần tử bên trong L\n",
    "    ## for i in range(len(L)): ### len(L) = 7 ~~> range(7) ~~> {0,1,2,3,4,5,6}\n",
    "    ##    print(L[i])\n",
    "    for i in L:\n",
    "        if i % 2 == 0:\n",
    "            return 1\n",
    "    return 0\n",
    "    \n",
    "L = [5,7,2,3,4,5,6,2]\n",
    "print(kiem_tra_chan(L))"
   ]
  },
  {
   "cell_type": "markdown",
   "id": "5a49eda8",
   "metadata": {},
   "source": [
    "Hãy cho biết mảng các số nguyên có toàn số chẵn hay không? Nếu có tồn tại giá trị lẻ trả về giá trị 0, ngược lại trả về 1."
   ]
  },
  {
   "cell_type": "code",
   "execution_count": 14,
   "id": "9b4d2f7d",
   "metadata": {},
   "outputs": [
    {
     "name": "stdout",
     "output_type": "stream",
     "text": [
      "1\n"
     ]
    }
   ],
   "source": [
    "def kiem_tra_toan_chan(L):\n",
    "    for i in L:\n",
    "        if i % 2 != 0: ### i không chia hết cho 2 thì i là số lẻ ~~> i chia 2 có phần dư khác không thì i là số lẻ\n",
    "            return 0\n",
    "    return 1\n",
    "\n",
    "L = [4,6,8,10,12,4,2]\n",
    "print(kiem_tra_toan_chan(L))"
   ]
  },
  {
   "cell_type": "markdown",
   "id": "a736df1e",
   "metadata": {},
   "source": [
    "Hãy kiểm tra mảng một chiều các số thực có đối xứng hay không?"
   ]
  },
  {
   "cell_type": "code",
   "execution_count": 16,
   "id": "c360bf6e",
   "metadata": {},
   "outputs": [
    {
     "name": "stdout",
     "output_type": "stream",
     "text": [
      "True\n",
      "False\n"
     ]
    }
   ],
   "source": [
    "def kt_doi_xung(arr):\n",
    "    tam = arr.copy()\n",
    "    tam.reverse()\n",
    "    if tam == arr:\n",
    "        return True\n",
    "    return False\n",
    "\n",
    "print(kt_doi_xung([1,2,3,0,3,2,1]))\n",
    "print(kt_doi_xung([1,2,4,6,3,0,3,2,1]))\n",
    "\n",
    "    "
   ]
  },
  {
   "cell_type": "code",
   "execution_count": null,
   "id": "b2ca8f7a",
   "metadata": {},
   "outputs": [],
   "source": [
    "L = [1,2,3,3,2,1]\n",
    "L = [3,4,7,7,4,3]\n",
    "L = [3,3,3,3,3]\n",
    "L = [2,5,72,72,5,2]"
   ]
  },
  {
   "cell_type": "code",
   "execution_count": 17,
   "id": "60d4a022",
   "metadata": {},
   "outputs": [
    {
     "name": "stdout",
     "output_type": "stream",
     "text": [
      "cba\n"
     ]
    }
   ],
   "source": [
    "chuoi = 'abc'\n",
    "chuoi_daonguoc = chuoi[::-1]\n",
    "print(chuoi_daonguoc)"
   ]
  },
  {
   "cell_type": "code",
   "execution_count": 23,
   "id": "2b84086f",
   "metadata": {},
   "outputs": [
    {
     "name": "stdout",
     "output_type": "stream",
     "text": [
      "False\n",
      "True\n"
     ]
    }
   ],
   "source": [
    "def kt_doi_xung(L):\n",
    "    L_daonguoc = L[::-1]\n",
    "    if L_daonguoc == L:\n",
    "        return True\n",
    "    return False\n",
    "    \n",
    "L1 = [5,7,2,3,4,5]\n",
    "L2 = [5,7,5,5,7,5]\n",
    "print(kt_doi_xung(L1))\n",
    "print(kt_doi_xung(L2))"
   ]
  },
  {
   "cell_type": "code",
   "execution_count": 24,
   "id": "f0ffe48e",
   "metadata": {},
   "outputs": [
    {
     "name": "stdout",
     "output_type": "stream",
     "text": [
      "[2, 43, 5, 7]\n"
     ]
    }
   ],
   "source": [
    "L1 = [2,43,5,7,2]\n",
    "L2 = L1[:-1]\n",
    "print(L2)"
   ]
  },
  {
   "cell_type": "markdown",
   "id": "975b9821",
   "metadata": {},
   "source": [
    "Ta định nghĩa một mảng có tính chẵn lẻ, khi tổng của hai phần tử liên tiếp trong mảng luôn luôn là số lẻ. Hãy viết hàm kiểm tra mảng a có tính chẵn lẻ hay không?"
   ]
  },
  {
   "cell_type": "code",
   "execution_count": 26,
   "id": "7ec6108e",
   "metadata": {},
   "outputs": [
    {
     "name": "stdout",
     "output_type": "stream",
     "text": [
      "False\n"
     ]
    }
   ],
   "source": [
    "def KTMangChanLe(List):\n",
    "    x = len(List)\n",
    "    for i in range(x-1):\n",
    "        L_sum = List[i] + List[i+1]\n",
    "        if L_sum%2 == 0:\n",
    "            return False\n",
    "    return True\n",
    "List = [2,5,6,2,9,12,-4]\n",
    "print(KTMangChanLe(List))"
   ]
  },
  {
   "cell_type": "markdown",
   "id": "434a04e0",
   "metadata": {},
   "source": [
    "Hãy kiểm tra mảng có tăng dần hay không?"
   ]
  },
  {
   "cell_type": "code",
   "execution_count": 29,
   "id": "ba375910",
   "metadata": {},
   "outputs": [
    {
     "name": "stdout",
     "output_type": "stream",
     "text": [
      "True\n"
     ]
    }
   ],
   "source": [
    "def kiemtra(L):\n",
    "    for i in range((len(L)-1)):\n",
    "         if L[i]>L[i+1]:\n",
    "            return False\n",
    "    return True\n",
    "\n",
    "L = [5,6,9,10,15]\n",
    "print(kiemtra(L))"
   ]
  },
  {
   "cell_type": "markdown",
   "id": "2dca9538",
   "metadata": {},
   "source": [
    "Hãy kiểm tra mảng có giảm dần hay không?"
   ]
  },
  {
   "cell_type": "code",
   "execution_count": 30,
   "id": "eb5154cc",
   "metadata": {},
   "outputs": [
    {
     "name": "stdout",
     "output_type": "stream",
     "text": [
      "True\n"
     ]
    }
   ],
   "source": [
    "def kiemtra(L):\n",
    "    for i in range(len(L)-1):\n",
    "        if L[i]<L[i+1]:\n",
    "            return False\n",
    "    return True\n",
    "L = [5,4,3,2,1]\n",
    "print(kiemtra(L))"
   ]
  },
  {
   "cell_type": "markdown",
   "id": "24dd211d",
   "metadata": {},
   "source": [
    "Hãy cho biết các phần tử trong mảng có lập thành cấp số cộng không? Nếu có hãy chỉ ra công sai d"
   ]
  },
  {
   "cell_type": "code",
   "execution_count": 31,
   "id": "e9dda389",
   "metadata": {},
   "outputs": [
    {
     "name": "stdout",
     "output_type": "stream",
     "text": [
      "2\n",
      "False\n"
     ]
    }
   ],
   "source": [
    "def ham(L):\n",
    "    for i in range(1,len(L)-1):\n",
    "        if L[i] - L[i-1] != L[i+1] - L[i]:\n",
    "            return False\n",
    "    return L[i] - L[i-1]\n",
    "\n",
    "L1 = [2,4,6,8,10]\n",
    "L2 =[1,2,4,6,8]\n",
    "print(ham(L1))\n",
    "print(ham(L2))\n"
   ]
  },
  {
   "cell_type": "markdown",
   "id": "19be5057",
   "metadata": {},
   "source": [
    "Hãy cho biết các phần tử trong mảng có bằng nhau không?"
   ]
  },
  {
   "cell_type": "code",
   "execution_count": 34,
   "id": "1ff05a5d",
   "metadata": {},
   "outputs": [
    {
     "name": "stdout",
     "output_type": "stream",
     "text": [
      "True\n",
      "False\n"
     ]
    }
   ],
   "source": [
    "L1 = [1,1,1,1,1,1,1,1]\n",
    "L2 = [1,1,2,3,4]\n",
    "\n",
    "def ham(L):\n",
    "    for i in L:\n",
    "        if L[0] != i:\n",
    "            return False\n",
    "    return True\n",
    "\n",
    "print(ham(L1))\n",
    "print(ham(L2))"
   ]
  },
  {
   "cell_type": "markdown",
   "id": "58268599",
   "metadata": {},
   "source": [
    "Người ta định nghĩa một mảng được gọi là “dạng sóng” khi phần tử có giá trị số I lớn hơn hoặc nhỏ hơn hai phần tử xung quanh nó. Hãy viết hàm kiểm tra trong a sóng hay không?"
   ]
  },
  {
   "cell_type": "code",
   "execution_count": 37,
   "id": "1572fb15",
   "metadata": {},
   "outputs": [
    {
     "name": "stdout",
     "output_type": "stream",
     "text": [
      "True\n",
      "False\n"
     ]
    }
   ],
   "source": [
    "def wave_form(L):\n",
    "    for i in range(1,len(L)-1):\n",
    "        if not ((L[i-1]<L[i]>L[i+1]) or (L[i-1]>L[i]<L[i+1])):\n",
    "            return False\n",
    "    return True\n",
    "\n",
    "L1 = [1,2,1,4,1,6,1]\n",
    "L2 = [2,3,4,5,2,5]\n",
    "print(wave_form(L1))\n",
    "print(wave_form(L2))"
   ]
  },
  {
   "cell_type": "markdown",
   "id": "3a06a75d",
   "metadata": {},
   "source": [
    "Hãy đếm số lượng giá trị trong mảng thỏa tính chất: “lớn hơn tất cả các giá trị đứng đằng trước nó”"
   ]
  },
  {
   "cell_type": "code",
   "execution_count": 4,
   "id": "33f9e4a3",
   "metadata": {},
   "outputs": [
    {
     "name": "stdout",
     "output_type": "stream",
     "text": [
      "5\n"
     ]
    }
   ],
   "source": [
    "L = [5,7,12,4,7,15,16,8]\n",
    "\n",
    "### những số lớn hơn tất cả các giá trị đứng đằng trước nó là:\n",
    "### 5,7,12,15,16\n",
    "### số lượng số thỏa mãn tính chất là 5\n",
    "\n",
    "def num_max(L):\n",
    "    m = L[0]\n",
    "    dem = 1\n",
    "    for i in L:\n",
    "        if i > m:\n",
    "            dem += 1\n",
    "            m = i\n",
    "    return dem\n",
    "    \n",
    "print(num_max(L))\n"
   ]
  },
  {
   "cell_type": "markdown",
   "id": "09720f79",
   "metadata": {},
   "source": [
    "Hãy trộn hai mảng bất kỳ lại thành 1 mảng được sắp thứ tự tăng dần"
   ]
  },
  {
   "cell_type": "code",
   "execution_count": 11,
   "id": "d91a0d7c",
   "metadata": {},
   "outputs": [
    {
     "name": "stdout",
     "output_type": "stream",
     "text": [
      "[2, 2, 3, 4, 4, 5, 5, 5, 7, 7, 8, 12, 15, 16]\n"
     ]
    }
   ],
   "source": [
    "def tron(L1,L2):\n",
    "    L3 = L1 + L2\n",
    "    for i in range(len(L3)-1):\n",
    "        for a in range(i+1,len(L3)):\n",
    "            if L3[a] < L3[i]:\n",
    "                L3[a], L3[i] = L3[i], L3[a]\n",
    "    return L3\n",
    "    \n",
    "L1 = [5,7,12,4,7,15,16,8]\n",
    "L2 = [2,3,4,5,2,5]\n",
    "print(tron(L1,L2))"
   ]
  },
  {
   "cell_type": "markdown",
   "id": "c2a03df7",
   "metadata": {},
   "source": [
    "Hãy đưa các số chẵn trong mảng về đầu mảng, số lẻ về cuối mảng và các phần tử 0 năm ở giữa"
   ]
  },
  {
   "cell_type": "code",
   "execution_count": 14,
   "id": "2595ba23",
   "metadata": {},
   "outputs": [
    {
     "name": "stdout",
     "output_type": "stream",
     "text": [
      "[12, 4, 16, 8, 0, 0, 5, 7, 7, 15]\n",
      "[2, 4, 2, 0, 0, 3, 5, 5]\n"
     ]
    }
   ],
   "source": [
    "def sapxep(L):\n",
    "    L_chan = []\n",
    "    L_le = []\n",
    "    L_khong = []\n",
    "    for i in L:\n",
    "        if i == 0:\n",
    "            L_khong.append(i)\n",
    "        elif i % 2 == 0:\n",
    "            L_chan.append(i)\n",
    "        elif i % 2 != 0:\n",
    "            L_le.append(i)\n",
    "    L_kq = L_chan + L_khong + L_le\n",
    "    return L_kq\n",
    "    \n",
    "L1 = [5,7,12,4,7,0,15,16,0,8]\n",
    "L2 = [2,3,4,0,5,0,2,5]\n",
    "print(sapxep(L1))\n",
    "print(sapxep(L2))"
   ]
  },
  {
   "cell_type": "markdown",
   "id": "88a5356c",
   "metadata": {},
   "source": [
    "Hãy đưa các số chia hết cho 3 về đầu mảng"
   ]
  },
  {
   "cell_type": "code",
   "execution_count": 15,
   "id": "2015e143",
   "metadata": {},
   "outputs": [
    {
     "name": "stdout",
     "output_type": "stream",
     "text": [
      "[12, 0, 15, 0, 5, 7, 4, 7, 16, 8]\n",
      "[3, 0, 0, 2, 4, 5, 2, 5]\n"
     ]
    }
   ],
   "source": [
    "def sapxep(L):\n",
    "    L_so = []\n",
    "    L_conlai = []\n",
    "    for i in L:\n",
    "        if i % 3 == 0:\n",
    "            L_so.append(i)\n",
    "        else:\n",
    "            L_conlai.append(i)\n",
    "    return L_so + L_conlai\n",
    "    \n",
    "L1 = [5,7,12,4,7,0,15,16,0,8]\n",
    "L2 = [2,3,4,0,5,0,2,5]\n",
    "print(sapxep(L1))\n",
    "print(sapxep(L2))"
   ]
  },
  {
   "cell_type": "markdown",
   "id": "873d2a46",
   "metadata": {},
   "source": [
    "Hãy xuất mảng theo yêu cầu: các phần tử chẵn nằm trên một hàng, các phần tử lẻ nằm ở hàng tiếp theo"
   ]
  },
  {
   "cell_type": "code",
   "execution_count": null,
   "id": "99109b77",
   "metadata": {},
   "outputs": [],
   "source": []
  },
  {
   "cell_type": "markdown",
   "id": "5e2c226d",
   "metadata": {},
   "source": [
    "Hãy biến đổi mảng bằng cách thay các giá trị lớn nhất bằng giá trị nhỏ nhất và ngược lại"
   ]
  },
  {
   "cell_type": "code",
   "execution_count": null,
   "id": "62eefa1a",
   "metadata": {},
   "outputs": [],
   "source": [
    "def thaydoi(L):\n",
    "    \n",
    "    \n",
    "L1 = [5,7,12,4,7,0,15,16,0,8]\n",
    "L2 = [2,3,4,0,5,0,2,5]\n",
    "print(thaydoi(L1))\n",
    "print(thaydoi(L2))"
   ]
  },
  {
   "cell_type": "code",
   "execution_count": 27,
   "id": "504fa8c7",
   "metadata": {},
   "outputs": [
    {
     "name": "stdout",
     "output_type": "stream",
     "text": [
      "[9, 5, 2, 1, 1, 0, 12, 2, 6]\n",
      "[4, 2, 0, 6, 5, 0, 1, 1, 2, 3]\n"
     ]
    }
   ],
   "source": [
    "def pos_min(l):\n",
    "    mi=None\n",
    "    vitri_min=None\n",
    "    for i in range(len(l)):\n",
    "        if l[i] != None and (mi == None or l[i] < mi):\n",
    "            mi = l[i]\n",
    "            vitri_min=i\n",
    "    return vitri_min\n",
    "\n",
    "def pos_max(l):\n",
    "    m=None\n",
    "    vitri_max=None\n",
    "    for i in range(len(l)):\n",
    "        if l[i] != None and (m == None or l[i] > m):\n",
    "            m = l[i]\n",
    "            vitri_max=i\n",
    "    return vitri_max\n",
    "        \n",
    "def doi_max_min(l):\n",
    "    l1 = l.copy()\n",
    "    for i in range(len(l)//2):\n",
    "        p_max = pos_max(l)\n",
    "        p_min = pos_min(l)\n",
    "        \n",
    "        l1[p_max],l1[p_min] = l1[p_min],l1[p_max]\n",
    "        \n",
    "        l[p_max] = None\n",
    "        l[p_min] = None\n",
    "        \n",
    "    return l1\n",
    "        \n",
    "print(doi_max_min([1,2,5,6,9,12,0,2,1]))\n",
    "print(doi_max_min([1,2,5,0,0,6,3,4,2,1]))"
   ]
  },
  {
   "cell_type": "code",
   "execution_count": 24,
   "id": "9fbe8561",
   "metadata": {},
   "outputs": [
    {
     "name": "stdout",
     "output_type": "stream",
     "text": [
      "L1: [5, 10]\n",
      "L2: [3, 5, 10]\n",
      "L1: [5, 10]\n",
      "L2: [3, 5, 10, 15]\n"
     ]
    }
   ],
   "source": [
    "L1 = [3,5,10]\n",
    "L2 = L1.copy()\n",
    "L1.pop(0)\n",
    "print(\"L1:\",L1)\n",
    "print(\"L2:\",L2)\n",
    "L2.append(15)\n",
    "print(\"L1:\",L1)\n",
    "print(\"L2:\",L2)"
   ]
  },
  {
   "cell_type": "markdown",
   "id": "4c5e92fa",
   "metadata": {},
   "source": [
    "Hãy đảo ngược thứ tự các số chẵn và các số lẻ trong mảng mà vẫn giữ nguyên vị trí tương đối của chúng"
   ]
  },
  {
   "cell_type": "code",
   "execution_count": null,
   "id": "0d6ba5f3",
   "metadata": {},
   "outputs": [],
   "source": [
    "[2,5,7,14] ~~> [5,2,14,7]\n",
    "## List phải có số lượng số lẻ bằng với số lượng số chẳn"
   ]
  }
 ],
 "metadata": {
  "kernelspec": {
   "display_name": "Python 3 (ipykernel)",
   "language": "python",
   "name": "python3"
  },
  "language_info": {
   "codemirror_mode": {
    "name": "ipython",
    "version": 3
   },
   "file_extension": ".py",
   "mimetype": "text/x-python",
   "name": "python",
   "nbconvert_exporter": "python",
   "pygments_lexer": "ipython3",
   "version": "3.10.7"
  }
 },
 "nbformat": 4,
 "nbformat_minor": 5
}
