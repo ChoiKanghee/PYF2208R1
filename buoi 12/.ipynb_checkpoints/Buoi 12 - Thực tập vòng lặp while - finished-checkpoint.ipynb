{
 "cells": [
  {
   "cell_type": "markdown",
   "id": "1f7be993",
   "metadata": {},
   "source": [
    "# Thực tập vòng lặp While\n",
    "\n",
    "### Bài 1\n",
    "\n",
    "Nhập vào số a, sử dụng lệnh while (không sử dụng break và for) để xác định xem số đó có phải là số nguyên tố hay không"
   ]
  },
  {
   "cell_type": "code",
   "execution_count": 9,
   "id": "8cb73965",
   "metadata": {},
   "outputs": [
    {
     "name": "stdout",
     "output_type": "stream",
     "text": [
      "Nhập vào a:9\n",
      "Đây không là số nguyên tố\n"
     ]
    }
   ],
   "source": [
    "\n",
    "a = int(input(\"Nhập vào a:\"))\n",
    "uoc = 1\n",
    "dem = 0\n",
    "\n",
    "while uoc <= a:\n",
    "    if a % uoc == 0: \n",
    "        dem += 1\n",
    "    uoc += 1\n",
    "    \n",
    "if dem == 2:\n",
    "    print(\"Đây là số nguyên tố\")\n",
    "else:\n",
    "    print(\"Đây không là số nguyên tố\")\n"
   ]
  },
  {
   "cell_type": "code",
   "execution_count": 14,
   "id": "d647cb40",
   "metadata": {},
   "outputs": [
    {
     "name": "stdout",
     "output_type": "stream",
     "text": [
      "Nhập vào a:14\n",
      "Đây không là số nguyên tố\n"
     ]
    }
   ],
   "source": [
    "a = int(input(\"Nhập vào a:\"))\n",
    "\n",
    "uoc = 2\n",
    "kiem_tra = False\n",
    "while uoc < a:\n",
    "    if a % uoc == 0: \n",
    "        kiem_tra = True\n",
    "        break\n",
    "    uoc += 1\n",
    "    \n",
    "if kiem_tra == False:\n",
    "    print(\"Đây là số nguyên tố\")\n",
    "else:\n",
    "    print(\"Đây không là số nguyên tố\")"
   ]
  },
  {
   "cell_type": "markdown",
   "id": "9f2357ca",
   "metadata": {},
   "source": [
    "### Bài 2\n",
    "\n",
    "Hãy sử dụng lệnh while lập trình cho bài đoán số ở buổi thứ 9"
   ]
  },
  {
   "cell_type": "code",
   "execution_count": null,
   "id": "db79cb9d",
   "metadata": {},
   "outputs": [],
   "source": []
  },
  {
   "cell_type": "markdown",
   "id": "58f5b789",
   "metadata": {},
   "source": [
    "### Bài 3\n",
    "\n",
    "Nhập vào số a, hãy đếm a có bao nhiêu chữ số chẵn, bao nhiêu cữ số lẻ\n",
    "\n",
    "#### Cách 1 (dùng chuỗi):"
   ]
  },
  {
   "cell_type": "code",
   "execution_count": 21,
   "id": "e7f9da21",
   "metadata": {},
   "outputs": [
    {
     "name": "stdout",
     "output_type": "stream",
     "text": [
      "nhập số a:2948\n",
      "Số lượng chữ số chẵn: 3\n",
      "Số lượng chữ số lẻ: 1\n"
     ]
    }
   ],
   "source": [
    "a = int(input(\"nhập số a:\"))\n",
    "\n",
    "a = str(a)\n",
    "\n",
    "dem_chan = 0\n",
    "dem_le = 0\n",
    "\n",
    "index = 0\n",
    "for i in range(len(a)):\n",
    "    if int(a[index]) % 2 == 0:\n",
    "        dem_chan += 1\n",
    "    else:\n",
    "        dem_le += 1\n",
    "    index += 1\n",
    "    \n",
    "print(\"Số lượng chữ số chẵn:\",dem_chan)\n",
    "print(\"Số lượng chữ số lẻ:\",dem_le)"
   ]
  },
  {
   "cell_type": "markdown",
   "id": "9a3d9703",
   "metadata": {},
   "source": [
    "#### Cách 2 (không dùng chuỗi):"
   ]
  },
  {
   "cell_type": "code",
   "execution_count": 17,
   "id": "d4e474c8",
   "metadata": {},
   "outputs": [
    {
     "name": "stdout",
     "output_type": "stream",
     "text": [
      "nhập số a:245687\n",
      "Số lượng chữ số chẵn: 4\n",
      "Số lượng chữ số lẻ: 2\n"
     ]
    }
   ],
   "source": [
    "a = int(input(\"nhập số a:\"))\n",
    "\n",
    "dem_chan = 0\n",
    "dem_le = 0\n",
    "\n",
    "while a != 0: ## điều kiện dừng là a == 0 ~~> điều kiện chạy là a != 0\n",
    "    b = a%10 ### lấy số hàng đơn vị của a\n",
    "    a = a//10 ### loại bỏ số hàng đơn vị của a\n",
    "    if b % 2 == 0:\n",
    "        dem_chan += 1\n",
    "    else:\n",
    "        dem_le += 1\n",
    "print(\"Số lượng chữ số chẵn:\",dem_chan)\n",
    "print(\"Số lượng chữ số lẻ:\",dem_le)"
   ]
  },
  {
   "cell_type": "markdown",
   "id": "69539ece",
   "metadata": {},
   "source": [
    "### Bài 4\n",
    "\n",
    "Nhập vào số a, hãy tính tổng các chữ số nguyên tố của a"
   ]
  },
  {
   "cell_type": "code",
   "execution_count": 22,
   "id": "f001bd9a",
   "metadata": {},
   "outputs": [
    {
     "name": "stdout",
     "output_type": "stream",
     "text": [
      "Nhập vào số a:24592847\n",
      "16\n"
     ]
    }
   ],
   "source": [
    "### 24592847 ~~> các số nguyên tố là 2, 5, 2, 7 ~~> tổng là 2 + 5 + 2 + 7 = 16\n",
    "\n",
    "a = int(input(\"Nhập vào số a:\"))\n",
    "tong = 0\n",
    "\n",
    "while a != 0: ## điều kiện dừng là a == 0 ~~> điều kiện chạy là a != 0\n",
    "    b = a%10 ### lấy số hàng đơn vị của a\n",
    "    a = a//10\n",
    "    ## từng chữ số ~~> chỉ có 1 chữ số ~~> số nguyên tố có 1 chữ số: 2, 3, 5, 7\n",
    "    if b == 2 or b == 3 or b == 5 or b == 7:\n",
    "        tong += b\n",
    "print(tong)"
   ]
  },
  {
   "cell_type": "markdown",
   "id": "0a5075a4",
   "metadata": {},
   "source": [
    "### Bài 5\n",
    "\n",
    "Số armstrong là số có tổng của các chữ số mũ số lượng chữ số bằng chính nó\n",
    "\n",
    "Ví dụ\n",
    "\n",
    "Số 371 là một số armstrong vì:\n",
    "\n",
    "371 = 3^3 + 7^3 + 1^3 (3 là số lượng chữ số của 371)\n",
    "\n",
    "Số 1634 là một số armstrong vì:\n",
    "\n",
    "1634 = 1^4 + 6^4 + 3^4 + 4^4 (4 là số lượng chữ số của 1634)\n",
    "\n",
    "Nhập vào số a, kiểm tra xem a có phải là số armstrong không"
   ]
  },
  {
   "cell_type": "code",
   "execution_count": null,
   "id": "b9ed54a5",
   "metadata": {},
   "outputs": [],
   "source": []
  },
  {
   "cell_type": "markdown",
   "id": "f8a584d3",
   "metadata": {},
   "source": [
    "### Bài 6\n",
    "\n",
    "Dãy số fibonacci là dãy số được định nghĩa như sau: 1, 1, 2, 3, 5, 8, 13,... với số kế tiếp sẽ bằng tổng hai số trước đó\n",
    "\n",
    "Nhập vào A, hãy tìm số trong dãy số fibonacci lớn nhất nhưng không vượt quá A"
   ]
  },
  {
   "cell_type": "code",
   "execution_count": null,
   "id": "3ad4d85b",
   "metadata": {},
   "outputs": [],
   "source": []
  },
  {
   "cell_type": "markdown",
   "id": "9fa794f2",
   "metadata": {},
   "source": [
    "### Bài 7\n",
    "\n",
    "Nhập vào A, tìm n nhỏ nhất sao cho\n",
    "\n",
    "1 + 1/2 + 1/3 + 1/4 + ... + 1/n > A"
   ]
  },
  {
   "cell_type": "code",
   "execution_count": 6,
   "id": "246ec002",
   "metadata": {},
   "outputs": [
    {
     "name": "stdout",
     "output_type": "stream",
     "text": [
      "Nhập vào A:2\n",
      "2.083333333333333 4\n"
     ]
    }
   ],
   "source": [
    "A = float(input(\"Nhập vào A:\"))\n",
    "\n",
    "n = 0\n",
    "S = 0\n",
    "while S <= A:\n",
    "    n += 1\n",
    "    S += 1/n\n",
    "    \n",
    "print(S,n)"
   ]
  },
  {
   "cell_type": "code",
   "execution_count": 4,
   "id": "ae802a2c",
   "metadata": {},
   "outputs": [
    {
     "name": "stdout",
     "output_type": "stream",
     "text": [
      "2.083333333333333\n"
     ]
    }
   ],
   "source": [
    "S = 1 + 1/2 + 1/3 + 1/4\n",
    "print(S)"
   ]
  },
  {
   "cell_type": "markdown",
   "id": "c5fd4d8a",
   "metadata": {},
   "source": [
    "### Bài 8\n",
    "\n",
    "Nhập vào a và b là số nguyên dương (b có một chữ số, nhập sai yêu cầu nhập lại), hãy tìm vị trí đầu tiên (bắt đầu từ bên trái) của b trong a, nếu không tìm thấy thì in kết quả là 0 (ví trí đầu bắt đầu từ 1)\n",
    "\n",
    "<b>Ví dụ:</b>\n",
    "\n",
    "<b>Nhập:</b>\n",
    "- a = 125785\n",
    "- b = 5\n",
    "\n",
    "<b>Kết quả:</b> 3 (do số 5 nằm ở vị trí 3)"
   ]
  },
  {
   "cell_type": "code",
   "execution_count": null,
   "id": "9edf35ac",
   "metadata": {},
   "outputs": [],
   "source": []
  }
 ],
 "metadata": {
  "kernelspec": {
   "display_name": "Python 3 (ipykernel)",
   "language": "python",
   "name": "python3"
  },
  "language_info": {
   "codemirror_mode": {
    "name": "ipython",
    "version": 3
   },
   "file_extension": ".py",
   "mimetype": "text/x-python",
   "name": "python",
   "nbconvert_exporter": "python",
   "pygments_lexer": "ipython3",
   "version": "3.10.7"
  }
 },
 "nbformat": 4,
 "nbformat_minor": 5
}
